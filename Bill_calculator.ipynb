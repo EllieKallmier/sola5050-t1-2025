{
  "nbformat": 4,
  "nbformat_minor": 0,
  "metadata": {
    "colab": {
      "provenance": [],
      "authorship_tag": "ABX9TyM0uWF3DWZ6/SlyphOwmX7W",
      "include_colab_link": true
    },
    "kernelspec": {
      "name": "python3",
      "display_name": "Python 3"
    },
    "language_info": {
      "name": "python"
    }
  },
  "cells": [
    {
      "cell_type": "markdown",
      "metadata": {
        "id": "view-in-github",
        "colab_type": "text"
      },
      "source": [
        "<a href=\"https://colab.research.google.com/github/EllieKallmier/sola5050-t1-2025/blob/main/Bill_calculator.ipynb\" target=\"_parent\"><img src=\"https://colab.research.google.com/assets/colab-badge.svg\" alt=\"Open In Colab\"/></a>"
      ]
    },
    {
      "cell_type": "markdown",
      "source": [
        "# Tariff Calculator\n",
        "\n",
        "Includes:\n",
        "* Bill calculation for load profiles with and without PV\n",
        "* Calculates flat rate, time of use and demand charges and includes feed in credits and daily usage charges.\n",
        "* Option to add a battery with a simple algorithm to maximise self-consumption."
      ],
      "metadata": {
        "id": "47aREN29TNmR"
      }
    },
    {
      "cell_type": "code",
      "execution_count": null,
      "metadata": {
        "id": "YPqm7_NxTAFg"
      },
      "outputs": [],
      "source": []
    }
  ]
}